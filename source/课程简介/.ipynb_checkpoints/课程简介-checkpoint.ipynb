{
 "cells": [
  {
   "cell_type": "markdown",
   "metadata": {},
   "source": [
    "# 课程简介"
   ]
  },
  {
   "cell_type": "markdown",
   "metadata": {},
   "source": [
    "## 课程简介\n",
    "                 \n",
    "**课程简介**  \n",
    "　　本课程从经典的感知器出发，由浅入深讲授了以全连接神经网络为基础的手写数字识别和机器学习方法，然后介绍以卷积神经网络为代表的深度学习方法在图像分类、对象检测、语义分割、图像合成等计算机图像模式识别任务中的应用。  \n",
    "　　因此，本课程分为两大部分：第一部分介绍神经网络的基本原理及其影响机器学习性能的主要因素；第二部分介绍以卷积神经网络为代表的深度神经网络在图像模式识别中的最新进展。在内容讲解方式上，本课程特别强调借助生活中一些直观的比喻和通俗易懂的案例来引导学生理深度学习的基本原理，利用直观的模拟数据帮助学生了解神经网络在模式分类和机器学习过程中的演变过程；借助Python等简单易学的解析型编程工具进行系统的实践训练，使学生掌握基本的图像模式识别的原理及操作过程，为学生将来在以图像为信息获取手段的应用领域开展工作或继续深造奠定基础。  \n",
    "　　本课程为扩展和增强理工科本科生数理基础与科学素养的通识教育课程。\n",
    "  \n",
    "**课程目标**   \n",
    "　　课程在“知识和技能”、“过程和方法”和“情感态度和价值观”的目标包括：\n",
    "  \n",
    "* 掌握模式识别的基本概念、神经网络的工作原理和监督学习基本原理和方法；\n",
    "\n",
    "* 掌握从图像从识别感兴趣目标的基本方式（图像分类、对象检测、语义分割和实例分割等），了解基于深度学习的识别方法的最新进展，激化深入探究的好奇心；\n",
    "\n",
    "* 借助简单的模拟数据，通过将抽象的数学公式与直观的可视化相结合的方法，直观地理解复杂的、抽象的模式识别问题背后的数学原理和神经网络的工作原理；\n",
    "\n",
    "* 通过在互动设置探究性问题在课程网络资源中提供Python的实例代码，强化动手实践的能力、培养主动学习的兴趣和热情。\n",
    "\n",
    "\n",
    "## 参考资料\n",
    "\n",
    "**书**       \n",
    "\n",
    "* 周志华 著.机器学习,北京:清华大学出版社,2016.\n",
    "* Richard O. Duda, Peter E. Hart and David G. Stork, Pattern Classification (2nd Ed.), 1997. \n",
    "\n",
    "**交互式示例程序**\n",
    "\n",
    "* Neural Network Playground: http://playground.tensorflow.org/ \n",
    "* ConVetJS: https://cs.stanford.edu/people/karpathy/convnetjs/\n",
    "\n",
    "**在线课程**\n",
    "\n",
    "* Neural Network and Deep Learning: http://neuralnetworksanddeeplearning.com/ \n",
    "* 遥感图像模式识别: http://prors.readthedocs.io/\n",
    "\n",
    "## 答疑与联系方式\n",
    "\n",
    "**任课教师**\n",
    "\n",
    "唐  宏        tanghong@bnu.edu.cn\n",
    "\n",
    "**助教**\n",
    "\n",
    "徐朋磊         xupenglei@mail.bnu.edu.cn\n",
    "\n",
    "QQ交流群：559197769"
   ]
  },
  {
   "cell_type": "code",
   "execution_count": null,
   "metadata": {},
   "outputs": [],
   "source": []
  }
 ],
 "metadata": {
  "hide_input": false,
  "kernelspec": {
   "display_name": "Python 3",
   "language": "python",
   "name": "python3"
  },
  "language_info": {
   "codemirror_mode": {
    "name": "ipython",
    "version": 3
   },
   "file_extension": ".py",
   "mimetype": "text/x-python",
   "name": "python",
   "nbconvert_exporter": "python",
   "pygments_lexer": "ipython3",
   "version": "3.6.7"
  },
  "varInspector": {
   "cols": {
    "lenName": 16,
    "lenType": 16,
    "lenVar": 40
   },
   "kernels_config": {
    "python": {
     "delete_cmd_postfix": "",
     "delete_cmd_prefix": "del ",
     "library": "var_list.py",
     "varRefreshCmd": "print(var_dic_list())"
    },
    "r": {
     "delete_cmd_postfix": ") ",
     "delete_cmd_prefix": "rm(",
     "library": "var_list.r",
     "varRefreshCmd": "cat(var_dic_list()) "
    }
   },
   "types_to_exclude": [
    "module",
    "function",
    "builtin_function_or_method",
    "instance",
    "_Feature"
   ],
   "window_display": false
  }
 },
 "nbformat": 4,
 "nbformat_minor": 2
}
